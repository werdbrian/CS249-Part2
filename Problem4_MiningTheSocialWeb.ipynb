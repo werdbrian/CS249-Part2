{
 "metadata": {
  "name": ""
 },
 "nbformat": 3,
 "nbformat_minor": 0,
 "worksheets": [
  {
   "cells": [
    {
     "cell_type": "heading",
     "level": 1,
     "metadata": {},
     "source": [
      "CS249 -- Take-Home Midterm -- Spring 2014"
     ]
    },
    {
     "cell_type": "markdown",
     "metadata": {},
     "source": [
      "##This problem is to be answered by your project team, working together.\n",
      "\n",
      "Please have <i>one</i> team member submit your final Notebook on CourseWeb.\n",
      "Make sure all team members' names are included below."
     ]
    },
    {
     "cell_type": "code",
     "collapsed": false,
     "input": [
      "%load_ext rmagic\n",
      "import rpy2 as Rpy"
     ],
     "language": "python",
     "metadata": {},
     "outputs": [],
     "prompt_number": 5
    },
    {
     "cell_type": "markdown",
     "metadata": {},
     "source": [
      "##Team Members\n",
      "\n",
      "<ul><li>\n",
      "<b>Harry Hackerman</b> (veryharry@cs.ucla.edu)\n",
      "</li><li>\n",
      "<b>Xu Xu</b> (xuxu@ucla.edu)\n",
      "</li><li>\n",
      "<b>Govindramasaralaman Chandramalabalavindramabalinajalam</b> (gc@cs.ucla.edu)\n",
      "</li></ul>"
     ]
    },
    {
     "cell_type": "heading",
     "level": 1,
     "metadata": {},
     "source": [
      "Problem 4:  Mining the Social Web"
     ]
    },
    {
     "cell_type": "markdown",
     "metadata": {},
     "source": [
      "There are some easy-to-use IPython notebooks for mining Social Networks in the directory:\n",
      "<br/>\n",
      "<a target=\"_blank\" title=\"http://nbviewer.ipython.org/github/ptwobrussell/Mining-the-Social-Web-2nd-Edition/tree/master/ipynb/\" href=\"http://nbviewer.ipython.org/github/ptwobrussell/Mining-the-Social-Web-2nd-Edition/tree/master/ipynb/\">http://nbviewer.ipython.org/github/ptwobrussell/Mining-the-Social-Web-2nd-Edition/tree/master/ipynb/</a>\n",
      "\n",
      "The notebooks in this directory permit you to mine popular sites (Twitter, LinkedIn, ...) in a variety of ways,\n",
      "provided you first register and obtain the necessary passwords there.\n",
      "\n",
      "\n",
      "For example, this directory contains the following notebook\n",
      "<a target=\"_blank\" title=\"http://nbviewer.ipython.org/github/ptwobrussell/Mining-the-Social-Web-2nd-Edition/blob/master/ipynb/Chapter%207%20-%20Mining%20GitHub.ipynb\" href=\"http://nbviewer.ipython.org/github/ptwobrussell/Mining-the-Social-Web-2nd-Edition/blob/master/ipynb/Chapter%207%20-%20Mining%20GitHub.ipynb\">Chapter 7 - Mining GitHub</a>.\n",
      "It explores the social structure of Github.\n",
      "We will use it as an example below.\n"
     ]
    },
    {
     "cell_type": "heading",
     "level": 1,
     "metadata": {},
     "source": [
      "The Problem:  <u>Analyze a real Social Network -- such as Github</u>"
     ]
    },
    {
     "cell_type": "markdown",
     "metadata": {},
     "source": [
      "The minimum required here is the following:\n",
      "<ol><li>\n",
      "Get one of the Notebooks in the directory above running.\n",
      "</li><li>\n",
      "Upload the completed Notebook on CourseWeb.\n",
      "</li></ol>\n",
      "That is it.  (As an example, explicit steps for doing this with the Github chapter are below.)"
     ]
    },
    {
     "cell_type": "markdown",
     "metadata": {},
     "source": [
      "##Can we do Twitter instead of the Github chapter?\n",
      "\n",
      "Yes.  You can do any of the chapters instead.\n",
      "\n",
      "Also: if you get confused, the home page for the book is at\n",
      "<a target=\"_blank\" title=\"https://github.com/ptwobrussell/Mining-the-Social-Web-2nd-Edition/\" href=\"https://github.com/ptwobrussell/Mining-the-Social-Web-2nd-Edition/\">https://github.com/ptwobrussell/Mining-the-Social-Web-2nd-Edition/</a>\n",
      "\n",
      "This page has links to tutorial videos by the author, all source code, and other information about the book.\n",
      "The book should be available on Safari also."
     ]
    },
    {
     "cell_type": "markdown",
     "metadata": {},
     "source": [
      "##Can we do some other Social Network Analysis instead?\n",
      "\n",
      "Yes.  Just make it substantive.\n",
      "\n",
      "Possibilities:<br/>\n",
      "<ul><li>\n",
      "<a href=\"https://www.google.com/#q=twiplomacy\">Twiplomacy</a>\n",
      "-- social networks of world leaders on Twitter -- is apparently growing rapidly;\n",
      "3/4 of the world's leaders use Twitter now.\n",
      "<br/><br/>\n",
      "</li><li>\n",
      "ConnectedChina (http://connectedchina.reuters.com) is an innovative site about elite power structure and social networks\n",
      "in China.\n",
      "It is based on a large database\n",
      "and interaction model developed by <a href=\"http://fathom.info/china\">Fathom</a>.\n",
      "<br/>\n",
      "</li></ul>\n",
      "\n",
      "<!--\n",
      "Chinese_Leaders = \"https://www.cia.gov/library/publications/world-leaders-1/CH.html\"  # CIA World Factbook (World Leaders)\n",
      "-->\n"
     ]
    },
    {
     "cell_type": "markdown",
     "metadata": {},
     "source": [
      "##Why aren't we supposed to do more than this?\n",
      "\n",
      "First, the notebooks do a huge job of getting everything set up for you.\n",
      "Most of the battle is over if you can get them running.\n",
      "\n",
      "Second, if you don't mind going to all the effort of getting the notebook running,\n",
      "and then don't automatically think of more things you want to try out,\n",
      "stopping is the right thing to do.\n",
      "\n",
      "Also: a key goal of the take-home midterm has been to help get everyone into things\n",
      "that might be useful for the project, and many people were interested in social network mining.\n"
     ]
    },
    {
     "cell_type": "markdown",
     "metadata": {},
     "source": [
      "##Low-Level Details for getting the Github Notebook running\n",
      "\n",
      "My steps for the Github notebook:\n",
      "<ol><li>\n",
      "Install PyGithub, which lets you use the Github API.  e.g.:\n",
      "<pre>\n",
      "&nbsp;&nbsp;&nbsp;&nbsp;&nbsp;&nbsp;&nbsp;&nbsp;cd&nbsp;&nbsp;/Applications/anaconda\n",
      "&nbsp;&nbsp;&nbsp;&nbsp;&nbsp;&nbsp;&nbsp;&nbsp;easy_install&nbsp;PyGithub\n",
      "&nbsp;&nbsp;&nbsp;&nbsp;&nbsp;&nbsp;&nbsp;&nbsp;##&nbsp;&nbsp;or&nbsp;perhaps:&nbsp;&nbsp;bin/easy_install&nbsp;PyGithub\n",
      "&nbsp;&nbsp;&nbsp;&nbsp;&nbsp;&nbsp;&nbsp;&nbsp;##&nbsp;&nbsp;or&nbsp;perhaps:&nbsp;&nbsp;sudo&nbsp;bin/easy_install&nbsp;PyGithub\n",
      "&nbsp;&nbsp;&nbsp;&nbsp;&nbsp;&nbsp;&nbsp;&nbsp;##&nbsp;&nbsp;or&nbsp;perhaps:&nbsp;&nbsp;bin/pip&nbsp;install&nbsp;PyGithub</pre>\n",
      "<!-- &nbsp;&nbsp;&nbsp;&nbsp;&nbsp;&nbsp;&nbsp;&nbsp;##&nbsp;&nbsp;or&nbsp;perhaps:&nbsp;&nbsp;sudo&nbsp;bin/pip&nbsp;install&nbsp;PyGithub\n",
      "-->\n",
      "This installs the <tt>github</tt> module.\n",
      "(Afterwards, within IPython, commands like '<tt>from github import Github</tt>' will work.)\n",
      "<br/>\n",
      "It might require either ingenuity or reading the book to figure out that PyGithub is what is needed.\n",
      "</li><li>\n",
      "Put a copy of the Github notebook (<a target=\"_blank\" title=\"http://nbviewer.ipython.org/github/ptwobrussell/Mining-the-Social-Web-2nd-Edition/blob/master/ipynb/Chapter%207%20-%20Mining%20GitHub.ipynb\" href=\"http://nbviewer.ipython.org/github/ptwobrussell/Mining-the-Social-Web-2nd-Edition/blob/master/ipynb/Chapter%207%20-%20Mining%20GitHub.ipynb\">Chapter 7 - Mining GitHub</a>) in your IPython notebook directory (and refresh or restart the kernel if necessary).\n",
      "</li><li>\n",
      "Obtain a userid and password from Github (by setting up a Github account and confirming by email).\n",
      "</li><li>\n",
      "Modify the <b>Example 1</b> cell in the Github notebook, and fill in the ''s with your userid and password.\n",
      "</li><li>\n",
      "Run the <b>Example 1</b> cell.\n",
      "This should get you an OAuth code (which is a long string like 'ba134ce0df4801bfbbcf06b30b2a69f6eed208a2').\n",
      "</li><li>\n",
      "Copy and Paste your OAuth code string into the assignment <pre>\n",
      "        ACCESS_CODE = 'ba134ce0df4801bfbbcf06b30b2a69f6eed208a2'</pre>\n",
      "in the <b>Example 3</b> cell.\n",
      "</li><li>\n",
      "Find all occurrences of \"checkpoints\" in the notebook, such as:\n",
      "<pre>        # Save your work by serializing out (pickling) the graph\n",
      "        nx.write_gpickle(g, \"resources/ch07-github/data/github.gpickle.1\")</pre>\n",
      "and edit the paths to put the files where you actually want them to go (or just comment out the pickle commands).\n",
      "</li><li>\n",
      "Run the notebook (starting with the <b>Example 2</b> cell).\n",
      "</li></ol>\n",
      "That is it.  The execution is not fast,\n",
      "but eventually it generates an interactive visualization of part of the Github social network.\n",
      "\n",
      "<br/>\n",
      "The original motivation for this problem was to let us study IPython Notebook activity on Github.\n",
      "We can still do this if there is interest.\n"
     ]
    },
    {
     "cell_type": "markdown",
     "metadata": {},
     "source": [
      " "
     ]
    },
    {
     "cell_type": "code",
     "collapsed": false,
     "input": [],
     "language": "python",
     "metadata": {},
     "outputs": []
    }
   ],
   "metadata": {}
  }
 ]
}