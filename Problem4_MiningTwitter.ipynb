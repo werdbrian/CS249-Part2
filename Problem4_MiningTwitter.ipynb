{
 "metadata": {
  "name": "",
  "signature": "sha256:51a5dcb69a7c222a0da355403cc2eef8d26a7f17faf3c02f5786c2223eff49e6"
 },
 "nbformat": 3,
 "nbformat_minor": 0,
 "worksheets": [
  {
   "cells": [
    {
     "cell_type": "heading",
     "level": 1,
     "metadata": {},
     "source": [
      "CS249 -- Take-Home Midterm -- Spring 2014"
     ]
    },
    {
     "cell_type": "markdown",
     "metadata": {},
     "source": [
      "##This problem is to be answered by your project team, working together.\n",
      "\n",
      "Please have <i>one</i> team member submit your final Notebook on CourseWeb.\n",
      "Make sure all team members' names are included below."
     ]
    },
    {
     "cell_type": "markdown",
     "metadata": {},
     "source": [
      "##Team Members\n",
      "\n",
      "<ul><li>\n",
      "<b>Brian Liu</b> (liubrian7@cs.ucla.edu)\n",
      "</li><li>\n",
      "<b>Stanley Ku</b> (stanleyku@ucla.edu)\n",
      "</li></ul>"
     ]
    },
    {
     "cell_type": "markdown",
     "metadata": {},
     "source": [
      "#Mining the Social Web, 2nd Edition\n",
      "\n",
      "##Chapter 1: Mining Twitter: Exploring Trending Topics, Discovering What People Are Talking About, and More\n",
      "\n",
      "This IPython Notebook provides an interactive way to follow along with and explore the numbered examples from [_Mining the Social Web (2nd Edition)_](http://bit.ly/135dHfs). The intent behind this notebook is to reinforce the concepts from the sample code in a fun, convenient, and effective way. This notebook assumes that you are reading along with the book and have the context of the discussion as you work through these exercises.\n",
      "\n",
      "In the somewhat unlikely event that you've somehow stumbled across this notebook outside of its context on GitHub, [you can find the full source code repository here](http://bit.ly/16kGNyb).\n",
      "\n",
      "## Copyright and Licensing\n",
      "\n",
      "You are free to use or adapt this notebook for any purpose you'd like. However, please respect the [Simplified BSD License](https://github.com/ptwobrussell/Mining-the-Social-Web-2nd-Edition/blob/master/LICENSE.txt) that governs its use."
     ]
    },
    {
     "cell_type": "markdown",
     "metadata": {},
     "source": [
      "# Twitter API Access\n",
      "\n",
      "Twitter implements OAuth 1.0A as its standard authentication mechanism, and in order to use it to make requests to Twitter's API, you'll need to go to https://dev.twitter.com/apps and create a sample application. There are four primary identifiers you'll need to note for an OAuth 1.0A workflow: consumer key, consumer secret, access token, and access token secret. Note that you will need an ordinary Twitter account in order to login, create an app, and get these credentials.\n",
      "\n",
      "<img src=\"files/resources/ch01-twitter/images/Twitter-AppCredentials.png\" width=\"600px\">"
     ]
    },
    {
     "cell_type": "markdown",
     "metadata": {},
     "source": [
      "If you are taking advantage of the virtual machine experience for this chapter that is powered by Vagrant, you should just be able to execute the code in this notebook without any worries whatsoever about installing dependencies. If you are running the code from your own development envioronment, however, be advised that these examples in this chapter take advantage of a Python package called [twitter](https://github.com/sixohsix/twitter) to make API calls. You can install this package in a terminal with [pip](https://pypi.python.org/pypi/pip) with the command `pip install twitter`, preferably from within a [Python virtual environment](https://pypi.python.org/pypi/virtualenv). "
     ]
    },
    {
     "cell_type": "markdown",
     "metadata": {},
     "source": [
      "Once installed, you should be able to open up a Python interpreter (or better yet, your [IPython](http://ipython.org/) interpreter) and get rolling."
     ]
    },
    {
     "cell_type": "heading",
     "level": 2,
     "metadata": {},
     "source": [
      "Example 1. Authorizing an application to access Twitter account data"
     ]
    },
    {
     "cell_type": "code",
     "collapsed": false,
     "input": [
      "import twitter\n",
      "\n",
      "# XXX: Go to http://dev.twitter.com/apps/new to create an app and get values\n",
      "# for these credentials, which you'll need to provide in place of these\n",
      "# empty string values that are defined as placeholders.\n",
      "# See https://dev.twitter.com/docs/auth/oauth for more information \n",
      "# on Twitter's OAuth implementation.\n",
      "\n",
      "CONSUMER_KEY = '773XWPXu9JyGJtcMiJleeEkQC'\n",
      "CONSUMER_SECRET ='RI81mswBVg0NRPjKm2pWXrczmujZG1ljU4optuFRp1EGrCY7yY'\n",
      "OAUTH_TOKEN = '136335230-GqPk5uYln2yT3spOHywe5UHV7nwxfb2vAywGQSCA'\n",
      "OAUTH_TOKEN_SECRET = 'Cst5RjdmhyqOKcZmwwsPckeYcN2yTz0D33CxEJ2RNVuJI'\n",
      "\n",
      "auth = twitter.oauth.OAuth(OAUTH_TOKEN, OAUTH_TOKEN_SECRET,\n",
      "                           CONSUMER_KEY, CONSUMER_SECRET)\n",
      "\n",
      "twitter_api = twitter.Twitter(auth=auth)\n",
      "\n",
      "# Nothing to see by displaying twitter_api except that it's now a\n",
      "# defined variable\n",
      "\n",
      "print twitter_api"
     ],
     "language": "python",
     "metadata": {},
     "outputs": [
      {
       "output_type": "stream",
       "stream": "stdout",
       "text": [
        "<twitter.api.Twitter object at 0x105f42610>\n"
       ]
      }
     ],
     "prompt_number": 2
    },
    {
     "cell_type": "heading",
     "level": 2,
     "metadata": {},
     "source": [
      "Example 2. Retrieving trends"
     ]
    },
    {
     "cell_type": "code",
     "collapsed": false,
     "input": [
      "# The Yahoo! Where On Earth ID for the entire world is 1.\n",
      "# See https://dev.twitter.com/docs/api/1.1/get/trends/place and\n",
      "# http://developer.yahoo.com/geo/geoplanet/\n",
      "\n",
      "WORLD_WOE_ID = 1\n",
      "US_WOE_ID = 23424977\n",
      "\n",
      "# Prefix ID with the underscore for query string parameterization.\n",
      "# Without the underscore, the twitter package appends the ID value\n",
      "# to the URL itself as a special case keyword argument.\n",
      "\n",
      "world_trends = twitter_api.trends.place(_id=WORLD_WOE_ID)\n",
      "us_trends = twitter_api.trends.place(_id=US_WOE_ID)\n",
      "\n",
      "print world_trends\n",
      "print\n",
      "print us_trends"
     ],
     "language": "python",
     "metadata": {},
     "outputs": [
      {
       "output_type": "stream",
       "stream": "stdout",
       "text": [
        "[{u'created_at': u'2014-05-07T02:01:43Z', u'trends': [{u'url': u'http://twitter.com/search?q=%23MeReEnfermaQue', u'query': u'%23MeReEnfermaQue', u'name': u'#MeReEnfermaQue', u'promoted_content': None}, {u'url': u'http://twitter.com/search?q=%231DayOneDirectionForBrazil', u'query': u'%231DayOneDirectionForBrazil', u'name': u'#1DayOneDirectionForBrazil', u'promoted_content': None}, {u'url': u'http://twitter.com/search?q=%23MeDaAltaPaja', u'query': u'%23MeDaAltaPaja', u'name': u'#MeDaAltaPaja', u'promoted_content': None}, {u'url': u'http://twitter.com/search?q=%23CamCares', u'query': u'%23CamCares', u'name': u'#CamCares', u'promoted_content': None}, {u'url': u'http://twitter.com/search?q=%23SeriaPerfectoQue', u'query': u'%23SeriaPerfectoQue', u'name': u'#SeriaPerfectoQue', u'promoted_content': None}, {u'url': u'http://twitter.com/search?q=%22Avril+e+Demi%22', u'query': u'%22Avril+e+Demi%22', u'name': u'Avril e Demi', u'promoted_content': None}, {u'url': u'http://twitter.com/search?q=%22Marcelito+de+XT%22', u'query': u'%22Marcelito+de+XT%22', u'name': u'Marcelito de XT', u'promoted_content': None}, {u'url': u'http://twitter.com/search?q=%22Anthony+Francis%22', u'query': u'%22Anthony+Francis%22', u'name': u'Anthony Francis', u'promoted_content': None}, {u'url': u'http://twitter.com/search?q=%22The+%22Clogposite%22%22', u'query': u'%22The+%22Clogposite%22%22', u'name': u'The \"Clogposite\"', u'promoted_content': None}, {u'url': u'http://twitter.com/search?q=%224332+Espectadores%22', u'query': u'%224332+Espectadores%22', u'name': u'4332 Espectadores', u'promoted_content': None}], u'as_of': u'2014-05-07T02:08:48Z', u'locations': [{u'woeid': 1, u'name': u'Worldwide'}]}]\n",
        "\n",
        "[{u'created_at': u'2014-05-07T02:04:34Z', u'trends': [{u'url': u'http://twitter.com/search?q=%23CamCares', u'query': u'%23CamCares', u'name': u'#CamCares', u'promoted_content': None}, {u'url': u'http://twitter.com/search?q=%22The+%22Clogposite%22%22', u'query': u'%22The+%22Clogposite%22%22', u'name': u'The \"Clogposite\"', u'promoted_content': None}, {u'url': u'http://twitter.com/search?q=%23NudesBeLike', u'query': u'%23NudesBeLike', u'name': u'#NudesBeLike', u'promoted_content': None}, {u'url': u'http://twitter.com/search?q=%23SingForNicole', u'query': u'%23SingForNicole', u'name': u'#SingForNicole', u'promoted_content': None}, {u'url': u'http://twitter.com/search?q=%23ComicView', u'query': u'%23ComicView', u'name': u'#ComicView', u'promoted_content': None}, {u'url': u'http://twitter.com/search?q=%23fredoselfie', u'query': u'%23fredoselfie', u'name': u'#fredoselfie', u'promoted_content': None}, {u'url': u'http://twitter.com/search?q=%22KD%27s+MVP%22', u'query': u'%22KD%27s+MVP%22', u'name': u\"KD's MVP\", u'promoted_content': None}, {u'url': u'http://twitter.com/search?q=%22Kevin+Durant%27s+MVP%22', u'query': u'%22Kevin+Durant%27s+MVP%22', u'name': u\"Kevin Durant's MVP\", u'promoted_content': None}, {u'url': u'http://twitter.com/search?q=%22Anthony+Francis%22', u'query': u'%22Anthony+Francis%22', u'name': u'Anthony Francis', u'promoted_content': None}, {u'url': u'http://twitter.com/search?q=%22Ben+Revere%22', u'query': u'%22Ben+Revere%22', u'name': u'Ben Revere', u'promoted_content': None}], u'as_of': u'2014-05-07T02:08:48Z', u'locations': [{u'woeid': 23424977, u'name': u'United States'}]}]\n"
       ]
      }
     ],
     "prompt_number": 3
    },
    {
     "cell_type": "heading",
     "level": 2,
     "metadata": {},
     "source": [
      "Example 3. Displaying API responses as pretty-printed JSON"
     ]
    },
    {
     "cell_type": "code",
     "collapsed": false,
     "input": [
      "import json\n",
      "\n",
      "print json.dumps(world_trends, indent=1)\n",
      "print\n",
      "print json.dumps(us_trends, indent=1)"
     ],
     "language": "python",
     "metadata": {},
     "outputs": [
      {
       "output_type": "stream",
       "stream": "stdout",
       "text": [
        "[\n",
        " {\n",
        "  \"created_at\": \"2014-05-07T02:01:43Z\", \n",
        "  \"trends\": [\n",
        "   {\n",
        "    \"url\": \"http://twitter.com/search?q=%23MeReEnfermaQue\", \n",
        "    \"query\": \"%23MeReEnfermaQue\", \n",
        "    \"name\": \"#MeReEnfermaQue\", \n",
        "    \"promoted_content\": null\n",
        "   }, \n",
        "   {\n",
        "    \"url\": \"http://twitter.com/search?q=%231DayOneDirectionForBrazil\", \n",
        "    \"query\": \"%231DayOneDirectionForBrazil\", \n",
        "    \"name\": \"#1DayOneDirectionForBrazil\", \n",
        "    \"promoted_content\": null\n",
        "   }, \n",
        "   {\n",
        "    \"url\": \"http://twitter.com/search?q=%23MeDaAltaPaja\", \n",
        "    \"query\": \"%23MeDaAltaPaja\", \n",
        "    \"name\": \"#MeDaAltaPaja\", \n",
        "    \"promoted_content\": null\n",
        "   }, \n",
        "   {\n",
        "    \"url\": \"http://twitter.com/search?q=%23CamCares\", \n",
        "    \"query\": \"%23CamCares\", \n",
        "    \"name\": \"#CamCares\", \n",
        "    \"promoted_content\": null\n",
        "   }, \n",
        "   {\n",
        "    \"url\": \"http://twitter.com/search?q=%23SeriaPerfectoQue\", \n",
        "    \"query\": \"%23SeriaPerfectoQue\", \n",
        "    \"name\": \"#SeriaPerfectoQue\", \n",
        "    \"promoted_content\": null\n",
        "   }, \n",
        "   {\n",
        "    \"url\": \"http://twitter.com/search?q=%22Avril+e+Demi%22\", \n",
        "    \"query\": \"%22Avril+e+Demi%22\", \n",
        "    \"name\": \"Avril e Demi\", \n",
        "    \"promoted_content\": null\n",
        "   }, \n",
        "   {\n",
        "    \"url\": \"http://twitter.com/search?q=%22Marcelito+de+XT%22\", \n",
        "    \"query\": \"%22Marcelito+de+XT%22\", \n",
        "    \"name\": \"Marcelito de XT\", \n",
        "    \"promoted_content\": null\n",
        "   }, \n",
        "   {\n",
        "    \"url\": \"http://twitter.com/search?q=%22Anthony+Francis%22\", \n",
        "    \"query\": \"%22Anthony+Francis%22\", \n",
        "    \"name\": \"Anthony Francis\", \n",
        "    \"promoted_content\": null\n",
        "   }, \n",
        "   {\n",
        "    \"url\": \"http://twitter.com/search?q=%22The+%22Clogposite%22%22\", \n",
        "    \"query\": \"%22The+%22Clogposite%22%22\", \n",
        "    \"name\": \"The \\\"Clogposite\\\"\", \n",
        "    \"promoted_content\": null\n",
        "   }, \n",
        "   {\n",
        "    \"url\": \"http://twitter.com/search?q=%224332+Espectadores%22\", \n",
        "    \"query\": \"%224332+Espectadores%22\", \n",
        "    \"name\": \"4332 Espectadores\", \n",
        "    \"promoted_content\": null\n",
        "   }\n",
        "  ], \n",
        "  \"as_of\": \"2014-05-07T02:08:48Z\", \n",
        "  \"locations\": [\n",
        "   {\n",
        "    \"woeid\": 1, \n",
        "    \"name\": \"Worldwide\"\n",
        "   }\n",
        "  ]\n",
        " }\n",
        "]\n",
        "\n",
        "[\n",
        " {\n",
        "  \"created_at\": \"2014-05-07T02:04:34Z\", \n",
        "  \"trends\": [\n",
        "   {\n",
        "    \"url\": \"http://twitter.com/search?q=%23CamCares\", \n",
        "    \"query\": \"%23CamCares\", \n",
        "    \"name\": \"#CamCares\", \n",
        "    \"promoted_content\": null\n",
        "   }, \n",
        "   {\n",
        "    \"url\": \"http://twitter.com/search?q=%22The+%22Clogposite%22%22\", \n",
        "    \"query\": \"%22The+%22Clogposite%22%22\", \n",
        "    \"name\": \"The \\\"Clogposite\\\"\", \n",
        "    \"promoted_content\": null\n",
        "   }, \n",
        "   {\n",
        "    \"url\": \"http://twitter.com/search?q=%23NudesBeLike\", \n",
        "    \"query\": \"%23NudesBeLike\", \n",
        "    \"name\": \"#NudesBeLike\", \n",
        "    \"promoted_content\": null\n",
        "   }, \n",
        "   {\n",
        "    \"url\": \"http://twitter.com/search?q=%23SingForNicole\", \n",
        "    \"query\": \"%23SingForNicole\", \n",
        "    \"name\": \"#SingForNicole\", \n",
        "    \"promoted_content\": null\n",
        "   }, \n",
        "   {\n",
        "    \"url\": \"http://twitter.com/search?q=%23ComicView\", \n",
        "    \"query\": \"%23ComicView\", \n",
        "    \"name\": \"#ComicView\", \n",
        "    \"promoted_content\": null\n",
        "   }, \n",
        "   {\n",
        "    \"url\": \"http://twitter.com/search?q=%23fredoselfie\", \n",
        "    \"query\": \"%23fredoselfie\", \n",
        "    \"name\": \"#fredoselfie\", \n",
        "    \"promoted_content\": null\n",
        "   }, \n",
        "   {\n",
        "    \"url\": \"http://twitter.com/search?q=%22KD%27s+MVP%22\", \n",
        "    \"query\": \"%22KD%27s+MVP%22\", \n",
        "    \"name\": \"KD's MVP\", \n",
        "    \"promoted_content\": null\n",
        "   }, \n",
        "   {\n",
        "    \"url\": \"http://twitter.com/search?q=%22Kevin+Durant%27s+MVP%22\", \n",
        "    \"query\": \"%22Kevin+Durant%27s+MVP%22\", \n",
        "    \"name\": \"Kevin Durant's MVP\", \n",
        "    \"promoted_content\": null\n",
        "   }, \n",
        "   {\n",
        "    \"url\": \"http://twitter.com/search?q=%22Anthony+Francis%22\", \n",
        "    \"query\": \"%22Anthony+Francis%22\", \n",
        "    \"name\": \"Anthony Francis\", \n",
        "    \"promoted_content\": null\n",
        "   }, \n",
        "   {\n",
        "    \"url\": \"http://twitter.com/search?q=%22Ben+Revere%22\", \n",
        "    \"query\": \"%22Ben+Revere%22\", \n",
        "    \"name\": \"Ben Revere\", \n",
        "    \"promoted_content\": null\n",
        "   }\n",
        "  ], \n",
        "  \"as_of\": \"2014-05-07T02:08:48Z\", \n",
        "  \"locations\": [\n",
        "   {\n",
        "    \"woeid\": 23424977, \n",
        "    \"name\": \"United States\"\n",
        "   }\n",
        "  ]\n",
        " }\n",
        "]\n"
       ]
      }
     ],
     "prompt_number": 4
    },
    {
     "cell_type": "heading",
     "level": 2,
     "metadata": {},
     "source": [
      "Example 4. Computing the intersection of two sets of trends"
     ]
    },
    {
     "cell_type": "code",
     "collapsed": false,
     "input": [
      "world_trends_set = set([trend['name'] \n",
      "                        for trend in world_trends[0]['trends']])\n",
      "\n",
      "us_trends_set = set([trend['name'] \n",
      "                     for trend in us_trends[0]['trends']]) \n",
      "\n",
      "common_trends = world_trends_set.intersection(us_trends_set)\n",
      "\n",
      "print common_trends"
     ],
     "language": "python",
     "metadata": {},
     "outputs": [
      {
       "output_type": "stream",
       "stream": "stdout",
       "text": [
        "set([u'The \"Clogposite\"', u'#CamCares', u'Anthony Francis'])\n"
       ]
      }
     ],
     "prompt_number": 5
    },
    {
     "cell_type": "heading",
     "level": 2,
     "metadata": {},
     "source": [
      "Example 5. Collecting search results"
     ]
    },
    {
     "cell_type": "code",
     "collapsed": false,
     "input": [
      "# XXX: Set this variable to a trending topic, \n",
      "# or anything else for that matter. The example query below\n",
      "# was a trending topic when this content was being developed\n",
      "# and is used throughout the remainder of this chapter.\n",
      "\n",
      "q = '#MentionSomeoneImportantForYou' \n",
      "\n",
      "count = 100\n",
      "\n",
      "# See https://dev.twitter.com/docs/api/1.1/get/search/tweets\n",
      "\n",
      "search_results = twitter_api.search.tweets(q=q, count=count)\n",
      "\n",
      "statuses = search_results['statuses']\n",
      "\n",
      "\n",
      "# Iterate through 5 more batches of results by following the cursor\n",
      "\n",
      "for _ in range(5):\n",
      "    print \"Length of statuses\", len(statuses)\n",
      "    try:\n",
      "        next_results = search_results['search_metadata']['next_results']\n",
      "    except KeyError, e: # No more results when next_results doesn't exist\n",
      "        break\n",
      "        \n",
      "    # Create a dictionary from next_results, which has the following form:\n",
      "    # ?max_id=313519052523986943&q=NCAA&include_entities=1\n",
      "    kwargs = dict([ kv.split('=') for kv in next_results[1:].split(\"&\") ])\n",
      "    \n",
      "    search_results = twitter_api.search.tweets(**kwargs)\n",
      "    statuses += search_results['statuses']\n",
      "\n",
      "# Show one sample search result by slicing the list...\n",
      "print json.dumps(statuses[0], indent=1)"
     ],
     "language": "python",
     "metadata": {},
     "outputs": [
      {
       "output_type": "stream",
       "stream": "stdout",
       "text": [
        "Length of statuses 44\n",
        "{\n",
        " \"contributors\": null, \n",
        " \"truncated\": false, \n",
        " \"text\": \"#MentionSomeoneImportantForYou @JodieMarsh http://t.co/Rq9HG66Tkx\", \n",
        " \"in_reply_to_status_id\": null, \n",
        " \"id\": 463795787902627840, \n",
        " \"favorite_count\": 0, \n",
        " \"source\": \"web\", \n",
        " \"retweeted\": false, \n",
        " \"coordinates\": null, \n",
        " \"entities\": {\n",
        "  \"symbols\": [], \n",
        "  \"user_mentions\": [\n",
        "   {\n",
        "    \"id\": 362602301, \n",
        "    \"indices\": [\n",
        "     31, \n",
        "     42\n",
        "    ], \n",
        "    \"id_str\": \"362602301\", \n",
        "    \"screen_name\": \"JodieMarsh\", \n",
        "    \"name\": \"Jodie Marsh\"\n",
        "   }\n",
        "  ], \n",
        "  \"hashtags\": [\n",
        "   {\n",
        "    \"indices\": [\n",
        "     0, \n",
        "     30\n",
        "    ], \n",
        "    \"text\": \"MentionSomeoneImportantForYou\"\n",
        "   }\n",
        "  ], \n",
        "  \"urls\": [], \n",
        "  \"media\": [\n",
        "   {\n",
        "    \"expanded_url\": \"http://twitter.com/Grimwolve/status/463795787902627840/photo/1\", \n",
        "    \"display_url\": \"pic.twitter.com/Rq9HG66Tkx\", \n",
        "    \"url\": \"http://t.co/Rq9HG66Tkx\", \n",
        "    \"media_url_https\": \"https://pbs.twimg.com/media/Bm-7z4cCQAEF9fg.jpg\", \n",
        "    \"id_str\": \"463795786640146433\", \n",
        "    \"sizes\": {\n",
        "     \"large\": {\n",
        "      \"h\": 800, \n",
        "      \"resize\": \"fit\", \n",
        "      \"w\": 600\n",
        "     }, \n",
        "     \"small\": {\n",
        "      \"h\": 453, \n",
        "      \"resize\": \"fit\", \n",
        "      \"w\": 340\n",
        "     }, \n",
        "     \"medium\": {\n",
        "      \"h\": 800, \n",
        "      \"resize\": \"fit\", \n",
        "      \"w\": 600\n",
        "     }, \n",
        "     \"thumb\": {\n",
        "      \"h\": 150, \n",
        "      \"resize\": \"crop\", \n",
        "      \"w\": 150\n",
        "     }\n",
        "    }, \n",
        "    \"indices\": [\n",
        "     43, \n",
        "     65\n",
        "    ], \n",
        "    \"type\": \"photo\", \n",
        "    \"id\": 463795786640146433, \n",
        "    \"media_url\": \"http://pbs.twimg.com/media/Bm-7z4cCQAEF9fg.jpg\"\n",
        "   }\n",
        "  ]\n",
        " }, \n",
        " \"in_reply_to_screen_name\": null, \n",
        " \"in_reply_to_user_id\": null, \n",
        " \"retweet_count\": 0, \n",
        " \"id_str\": \"463795787902627840\", \n",
        " \"favorited\": false, \n",
        " \"user\": {\n",
        "  \"follow_request_sent\": false, \n",
        "  \"profile_use_background_image\": true, \n",
        "  \"default_profile_image\": false, \n",
        "  \"id\": 298600086, \n",
        "  \"profile_background_image_url_https\": \"https://pbs.twimg.com/profile_background_images/444955390145339392/ZP4ICeZd.jpeg\", \n",
        "  \"verified\": false, \n",
        "  \"profile_text_color\": \"333333\", \n",
        "  \"profile_image_url_https\": \"https://pbs.twimg.com/profile_images/444955157495689216/wyb7Jl7Z_normal.jpeg\", \n",
        "  \"profile_sidebar_fill_color\": \"C0DFEC\", \n",
        "  \"entities\": {\n",
        "   \"url\": {\n",
        "    \"urls\": [\n",
        "     {\n",
        "      \"url\": \"http://t.co/mJlaoLFErX\", \n",
        "      \"indices\": [\n",
        "       0, \n",
        "       22\n",
        "      ], \n",
        "      \"expanded_url\": \"http://store.hbouk.com/\", \n",
        "      \"display_url\": \"store.hbouk.com\"\n",
        "     }\n",
        "    ]\n",
        "   }, \n",
        "   \"description\": {\n",
        "    \"urls\": []\n",
        "   }\n",
        "  }, \n",
        "  \"followers_count\": 594, \n",
        "  \"profile_sidebar_border_color\": \"FFFFFF\", \n",
        "  \"id_str\": \"298600086\", \n",
        "  \"profile_background_color\": \"022330\", \n",
        "  \"listed_count\": 6, \n",
        "  \"is_translation_enabled\": false, \n",
        "  \"utc_offset\": 3600, \n",
        "  \"statuses_count\": 25408, \n",
        "  \"description\": \"23 year old Englishman, big fan of Game of Thrones, Slash and video games.\", \n",
        "  \"friends_count\": 463, \n",
        "  \"location\": \"London\", \n",
        "  \"profile_link_color\": \"B300A7\", \n",
        "  \"profile_image_url\": \"http://pbs.twimg.com/profile_images/444955157495689216/wyb7Jl7Z_normal.jpeg\", \n",
        "  \"following\": false, \n",
        "  \"geo_enabled\": true, \n",
        "  \"profile_banner_url\": \"https://pbs.twimg.com/profile_banners/298600086/1394921574\", \n",
        "  \"profile_background_image_url\": \"http://pbs.twimg.com/profile_background_images/444955390145339392/ZP4ICeZd.jpeg\", \n",
        "  \"screen_name\": \"Grimwolve\", \n",
        "  \"lang\": \"en\", \n",
        "  \"profile_background_tile\": true, \n",
        "  \"favourites_count\": 1215, \n",
        "  \"name\": \"Joe David Menezes\", \n",
        "  \"notifications\": false, \n",
        "  \"url\": \"http://t.co/mJlaoLFErX\", \n",
        "  \"created_at\": \"Sat May 14 16:06:53 +0000 2011\", \n",
        "  \"contributors_enabled\": false, \n",
        "  \"time_zone\": \"London\", \n",
        "  \"protected\": false, \n",
        "  \"default_profile\": false, \n",
        "  \"is_translator\": false\n",
        " }, \n",
        " \"geo\": null, \n",
        " \"in_reply_to_user_id_str\": null, \n",
        " \"possibly_sensitive\": false, \n",
        " \"lang\": \"en\", \n",
        " \"created_at\": \"Tue May 06 21:41:47 +0000 2014\", \n",
        " \"in_reply_to_status_id_str\": null, \n",
        " \"place\": {\n",
        "  \"full_name\": \"Enfield, London\", \n",
        "  \"url\": \"https://api.twitter.com/1.1/geo/id/a542d4198f8151de.json\", \n",
        "  \"country\": \"United Kingdom\", \n",
        "  \"place_type\": \"city\", \n",
        "  \"bounding_box\": {\n",
        "   \"type\": \"Polygon\", \n",
        "   \"coordinates\": [\n",
        "    [\n",
        "     [\n",
        "      -0.18576, \n",
        "      51.604519\n",
        "     ], \n",
        "     [\n",
        "      -0.010135, \n",
        "      51.604519\n",
        "     ], \n",
        "     [\n",
        "      -0.010135, \n",
        "      51.691672\n",
        "     ], \n",
        "     [\n",
        "      -0.18576, \n",
        "      51.691672\n",
        "     ]\n",
        "    ]\n",
        "   ]\n",
        "  }, \n",
        "  \"contained_within\": [], \n",
        "  \"country_code\": \"GB\", \n",
        "  \"attributes\": {}, \n",
        "  \"id\": \"a542d4198f8151de\", \n",
        "  \"name\": \"Enfield\"\n",
        " }, \n",
        " \"metadata\": {\n",
        "  \"iso_language_code\": \"en\", \n",
        "  \"result_type\": \"recent\"\n",
        " }\n",
        "}\n"
       ]
      }
     ],
     "prompt_number": 6
    },
    {
     "cell_type": "markdown",
     "metadata": {},
     "source": [
      "Note: Should you desire to do so, you can load the same set of search results that are illustrated in the text of _Mining the Social Web_ by executing the code below that reads a snapshot of the data and stores it into the same statuses variable as was defined above. Alternatively, you can choose to skip execution of this cell in order to follow along with your own data."
     ]
    },
    {
     "cell_type": "code",
     "collapsed": false,
     "input": [
      "import json\n",
      "statuses = json.loads(open('resources/ch01-twitter/data/MentionSomeoneImportantForYou.json').read())\n",
      "\n",
      "# The result of the list comprehension is a list with only one element that\n",
      "# can be accessed by its index and set to the variable t\n",
      "t = [ status \n",
      "      for status in statuses\n",
      "          if status['id'] == 316948241264549888 ][0]\n",
      "\n",
      "# Explore the variable t to get familiarized with the data structure...\n",
      "\n",
      "print t['retweet_count']\n",
      "print t['retweeted_status']\n",
      "\n",
      "# Can you find the most retweeted tweet in your search results? Try do do it!"
     ],
     "language": "python",
     "metadata": {},
     "outputs": [
      {
       "output_type": "stream",
       "stream": "stdout",
       "text": [
        "23\n",
        "{u'contributors': None, u'truncated': False, u'text': u'#MentionSomeoneImportantForYou God.', u'in_reply_to_status_id': None, u'id': 316944833233186816, u'favorite_count': 0, u'source': u'web', u'retweeted': False, u'coordinates': None, u'entities': {u'user_mentions': [], u'hashtags': [{u'indices': [0, 30], u'text': u'MentionSomeoneImportantForYou'}], u'urls': []}, u'in_reply_to_screen_name': None, u'in_reply_to_user_id': None, u'retweet_count': 23, u'id_str': u'316944833233186816', u'favorited': False, u'user': {u'follow_request_sent': None, u'profile_use_background_image': True, u'id': 56259379, u'verified': False, u'profile_text_color': u'3C3940', u'profile_image_url_https': u'https://si0.twimg.com/profile_images/3429999131/c22f74b56d0e0bf6350ceb00aae0aa0a_normal.jpeg', u'profile_sidebar_fill_color': u'95E8EC', u'is_translator': False, u'geo_enabled': True, u'entities': {u'url': {u'urls': [{u'url': u'http://t.co/yRX89YM4J0', u'indices': [0, 22], u'expanded_url': u'http://www.datpiff.com/mixtapes-detail.php?id=470069', u'display_url': u'datpiff.com/mixtapes-detai\\u2026'}]}, u'description': {u'urls': []}}, u'followers_count': 105041, u'protected': False, u'location': u'', u'default_profile_image': False, u'id_str': u'56259379', u'utc_offset': -18000, u'statuses_count': 16691, u'description': u'#TheseAreTheWordsISaid LP', u'friends_count': 59615, u'profile_link_color': u'91785A', u'profile_image_url': u'http://a0.twimg.com/profile_images/3429999131/c22f74b56d0e0bf6350ceb00aae0aa0a_normal.jpeg', u'notifications': None, u'profile_background_image_url_https': u'https://si0.twimg.com/profile_background_images/824774581/a0c35bcecb5642e0e17c707372fc393e.jpeg', u'profile_background_color': u'000000', u'profile_banner_url': u'https://si0.twimg.com/profile_banners/56259379/1363388572', u'profile_background_image_url': u'http://a0.twimg.com/profile_background_images/824774581/a0c35bcecb5642e0e17c707372fc393e.jpeg', u'name': u'Download the NEW LP!', u'lang': u'en', u'profile_background_tile': False, u'favourites_count': 6142, u'screen_name': u'hassanmusician', u'url': u'http://t.co/yRX89YM4J0', u'created_at': u'Mon Jul 13 02:18:25 +0000 2009', u'contributors_enabled': False, u'time_zone': u'Eastern Time (US & Canada)', u'profile_sidebar_border_color': u'000000', u'default_profile': False, u'following': None, u'listed_count': 64}, u'geo': None, u'in_reply_to_user_id_str': None, u'lang': u'en', u'created_at': u'Wed Mar 27 16:08:31 +0000 2013', u'in_reply_to_status_id_str': None, u'place': None, u'metadata': {u'iso_language_code': u'en', u'result_type': u'recent'}}\n"
       ]
      }
     ],
     "prompt_number": 7
    },
    {
     "cell_type": "heading",
     "level": 2,
     "metadata": {},
     "source": [
      "Example 6. Extracting text, screen names, and hashtags from tweets"
     ]
    },
    {
     "cell_type": "code",
     "collapsed": false,
     "input": [
      "status_texts = [ status['text'] \n",
      "                 for status in statuses ]\n",
      "\n",
      "screen_names = [ user_mention['screen_name'] \n",
      "                 for status in statuses\n",
      "                     for user_mention in status['entities']['user_mentions'] ]\n",
      "\n",
      "hashtags = [ hashtag['text'] \n",
      "             for status in statuses\n",
      "                 for hashtag in status['entities']['hashtags'] ]\n",
      "\n",
      "# Compute a collection of all words from all tweets\n",
      "words = [ w \n",
      "          for t in status_texts \n",
      "              for w in t.split() ]\n",
      "\n",
      "# Explore the first 5 items for each...\n",
      "\n",
      "print json.dumps(status_texts[0:5], indent=1)\n",
      "print json.dumps(screen_names[0:5], indent=1) \n",
      "print json.dumps(hashtags[0:5], indent=1)\n",
      "print json.dumps(words[0:5], indent=1)"
     ],
     "language": "python",
     "metadata": {},
     "outputs": [
      {
       "output_type": "stream",
       "stream": "stdout",
       "text": [
        "[\n",
        " \"\\u201c@KathleenMariee_: #MentionSomeOneImportantForYou @AhhlicksCruise , @itsravennn_cx ,@kandykisses_13 , @BMOLOGY\\u201d\\ud83d\\udc4d\", \n",
        " \"#MentionSomeoneImportantForYou My bf @Linkin_Sunrise.\", \n",
        " \"RT @hassanmusician: #MentionSomeoneImportantForYou God.\", \n",
        " \"#MentionSomeoneImportantForYou @Louis_Tomlinson\", \n",
        " \"#MentionSomeoneImportantForYou @Delta_Universe\"\n",
        "]\n",
        "[\n",
        " \"KathleenMariee_\", \n",
        " \"AhhlicksCruise\", \n",
        " \"itsravennn_cx\", \n",
        " \"kandykisses_13\", \n",
        " \"BMOLOGY\"\n",
        "]\n",
        "[\n",
        " \"MentionSomeOneImportantForYou\", \n",
        " \"MentionSomeoneImportantForYou\", \n",
        " \"MentionSomeoneImportantForYou\", \n",
        " \"MentionSomeoneImportantForYou\", \n",
        " \"MentionSomeoneImportantForYou\"\n",
        "]\n",
        "[\n",
        " \"\\u201c@KathleenMariee_:\", \n",
        " \"#MentionSomeOneImportantForYou\", \n",
        " \"@AhhlicksCruise\", \n",
        " \",\", \n",
        " \"@itsravennn_cx\"\n",
        "]\n"
       ]
      }
     ],
     "prompt_number": 8
    },
    {
     "cell_type": "heading",
     "level": 2,
     "metadata": {},
     "source": [
      "Example 7. Creating a basic frequency distribution from the words in tweets"
     ]
    },
    {
     "cell_type": "code",
     "collapsed": false,
     "input": [
      "from collections import Counter\n",
      "\n",
      "for item in [words, screen_names, hashtags]:\n",
      "    c = Counter(item)\n",
      "    print c.most_common()[:10] # top 10\n",
      "    print"
     ],
     "language": "python",
     "metadata": {},
     "outputs": [
      {
       "output_type": "stream",
       "stream": "stdout",
       "text": [
        "[(u'#MentionSomeoneImportantForYou', 92), (u'RT', 34), (u'my', 10), (u',', 6), (u'@justinbieber', 6), (u'&lt;3', 6), (u'My', 5), (u'and', 4), (u'I', 4), (u'te', 3)]\n",
        "\n",
        "[(u'justinbieber', 6), (u'Kid_Charliej', 2), (u'Cavillafuerte', 2), (u'touchmestyles_', 1), (u'aliceorr96', 1), (u'gymleeam', 1), (u'fienas', 1), (u'nayely_1D', 1), (u'angelchute', 1), (u'BigTittieAngel', 1)]\n",
        "\n",
        "[(u'MentionSomeoneImportantForYou', 94), (u'mentionsomeoneimportantforyou', 3), (u'NoHomo', 1), (u'Love', 1), (u'MentionSomeOneImportantForYou', 1), (u'MyHeart', 1), (u'bebesito', 1)]\n",
        "\n"
       ]
      }
     ],
     "prompt_number": 9
    },
    {
     "cell_type": "heading",
     "level": 2,
     "metadata": {},
     "source": [
      "Example 8. Using prettytable to display tuples in a nice tabular format"
     ]
    },
    {
     "cell_type": "code",
     "collapsed": false,
     "input": [
      "from prettytable import PrettyTable\n",
      "\n",
      "for label, data in (('Word', words), \n",
      "                    ('Screen Name', screen_names), \n",
      "                    ('Hashtag', hashtags)):\n",
      "    pt = PrettyTable(field_names=[label, 'Count']) \n",
      "    c = Counter(data)\n",
      "    [ pt.add_row(kv) for kv in c.most_common()[:10] ]\n",
      "    pt.align[label], pt.align['Count'] = 'l', 'r' # Set column alignment\n",
      "    print pt"
     ],
     "language": "python",
     "metadata": {},
     "outputs": [
      {
       "output_type": "stream",
       "stream": "stdout",
       "text": [
        "+--------------------------------+-------+\n",
        "| Word                           | Count |\n",
        "+--------------------------------+-------+\n",
        "| #MentionSomeoneImportantForYou |    92 |\n",
        "| RT                             |    34 |\n",
        "| my                             |    10 |\n",
        "| ,                              |     6 |\n",
        "| @justinbieber                  |     6 |\n",
        "| &lt;3                          |     6 |\n",
        "| My                             |     5 |\n",
        "| and                            |     4 |\n",
        "| I                              |     4 |\n",
        "| te                             |     3 |\n",
        "+--------------------------------+-------+\n",
        "+----------------+-------+\n",
        "| Screen Name    | Count |\n",
        "+----------------+-------+\n",
        "| justinbieber   |     6 |\n",
        "| Kid_Charliej   |     2 |\n",
        "| Cavillafuerte  |     2 |\n",
        "| touchmestyles_ |     1 |\n",
        "| aliceorr96     |     1 |\n",
        "| gymleeam       |     1 |\n",
        "| fienas         |     1 |\n",
        "| nayely_1D      |     1 |\n",
        "| angelchute     |     1 |\n",
        "| BigTittieAngel |     1 |\n",
        "+----------------+-------+\n",
        "+-------------------------------+-------+\n",
        "| Hashtag                       | Count |\n",
        "+-------------------------------+-------+\n",
        "| MentionSomeoneImportantForYou |    94 |\n",
        "| mentionsomeoneimportantforyou |     3 |\n",
        "| NoHomo                        |     1 |\n",
        "| Love                          |     1 |\n",
        "| MentionSomeOneImportantForYou |     1 |\n",
        "| MyHeart                       |     1 |\n",
        "| bebesito                      |     1 |\n",
        "+-------------------------------+-------+\n"
       ]
      }
     ],
     "prompt_number": 10
    },
    {
     "cell_type": "heading",
     "level": 2,
     "metadata": {},
     "source": [
      "Example 9. Calculating lexical diversity for tweets"
     ]
    },
    {
     "cell_type": "code",
     "collapsed": false,
     "input": [
      "# A function for computing lexical diversity\n",
      "def lexical_diversity(tokens):\n",
      "    return 1.0*len(set(tokens))/len(tokens) \n",
      "\n",
      "# A function for computing the average number of words per tweet\n",
      "def average_words(statuses):\n",
      "    total_words = sum([ len(s.split()) for s in statuses ]) \n",
      "    return 1.0*total_words/len(statuses)\n",
      "\n",
      "print lexical_diversity(words)\n",
      "print lexical_diversity(screen_names)\n",
      "print lexical_diversity(hashtags)\n",
      "print average_words(status_texts)"
     ],
     "language": "python",
     "metadata": {},
     "outputs": [
      {
       "output_type": "stream",
       "stream": "stdout",
       "text": [
        "0.67610619469\n",
        "0.955414012739\n",
        "0.0686274509804\n",
        "5.76530612245\n"
       ]
      }
     ],
     "prompt_number": 11
    },
    {
     "cell_type": "heading",
     "level": 2,
     "metadata": {},
     "source": [
      "Example 10. Finding the most popular retweets"
     ]
    },
    {
     "cell_type": "code",
     "collapsed": false,
     "input": [
      "retweets = [\n",
      "            # Store out a tuple of these three values ...\n",
      "            (status['retweet_count'], \n",
      "             status['retweeted_status']['user']['screen_name'],\n",
      "             status['text']) \n",
      "            \n",
      "            # ... for each status ...\n",
      "            for status in statuses \n",
      "            \n",
      "            # ... so long as the status meets this condition.\n",
      "                if status.has_key('retweeted_status')\n",
      "           ]\n",
      "\n",
      "# Slice off the first 5 from the sorted results and display each item in the tuple\n",
      "\n",
      "pt = PrettyTable(field_names=['Count', 'Screen Name', 'Text'])\n",
      "[ pt.add_row(row) for row in sorted(retweets, reverse=True)[:5] ]\n",
      "pt.max_width['Text'] = 50\n",
      "pt.align= 'l'\n",
      "print pt"
     ],
     "language": "python",
     "metadata": {},
     "outputs": [
      {
       "output_type": "stream",
       "stream": "stdout",
       "text": [
        "+-------+----------------+----------------------------------------------------+\n",
        "| Count | Screen Name    | Text                                               |\n",
        "+-------+----------------+----------------------------------------------------+\n",
        "| 23    | hassanmusician | RT @hassanmusician: #MentionSomeoneImportantForYou |\n",
        "|       |                | God.                                               |\n",
        "| 21    | HSweethearts   | RT @HSweethearts: #MentionSomeoneImportantForYou   |\n",
        "|       |                | my high school sweetheart \u2764\ud83d\udc8b                      |\n",
        "| 15    | LosAlejandro_  | RT @LosAlejandro_: \u00bfNadie te menciono en           |\n",
        "|       |                | \"#MentionSomeoneImportantForYou\"? JAJAJAJAJAJAJAJA |\n",
        "|       |                | JAJAJAJAJAJAJAJAJAJAJAJAJAJAJAJAJAJAJAJA Ven, ...  |\n",
        "| 9     | SCOTTSUMME     | RT @SCOTTSUMME: #MentionSomeoneImportantForYou My  |\n",
        "|       |                | Mum. Shes loving, caring, strong, all in one. I    |\n",
        "|       |                | love her so much \u2764\u2764\u2764\u2764                              |\n",
        "| 7     | degrassihaha   | RT @degrassihaha: #MentionSomeoneImportantForYou I |\n",
        "|       |                | can't put every Degrassi cast member, crew member, |\n",
        "|       |                | and writer in just one tweet....                   |\n",
        "+-------+----------------+----------------------------------------------------+\n"
       ]
      }
     ],
     "prompt_number": 12
    },
    {
     "cell_type": "heading",
     "level": 2,
     "metadata": {},
     "source": [
      "Example 11. Looking up users who have retweeted a status"
     ]
    },
    {
     "cell_type": "code",
     "collapsed": false,
     "input": [
      "# Get the original tweet id for a tweet from its retweeted_status node \n",
      "# and insert it here in place of the sample value that is provided\n",
      "# from the text of the book\n",
      "\n",
      "_retweets = twitter_api.statuses.retweets(id=317127304981667841)\n",
      "print [r['user']['screen_name'] for r in _retweets]"
     ],
     "language": "python",
     "metadata": {},
     "outputs": [
      {
       "output_type": "stream",
       "stream": "stdout",
       "text": [
        "[u'caramheeel', u'jyeee', u'Ceejaynatics', u'Majendalove', u'shameeennnn', u'EmilyearoRuiz', u'ShikaynaAryan', u'LoveKyana18', u'iiaamcamille', u'figueroangelene', u'Aileenylalalove', u'mikaachuu', u'kidamgos', u'ShaaaronOng', u'asdfghjbl']\n"
       ]
      }
     ],
     "prompt_number": 13
    },
    {
     "cell_type": "heading",
     "level": 2,
     "metadata": {},
     "source": [
      "Example 12. Plotting frequencies of words"
     ]
    },
    {
     "cell_type": "code",
     "collapsed": false,
     "input": [
      "import matplotlib.pyplot as plt\n",
      "%matplotlib inline\n",
      "\n",
      "word_counts = sorted(Counter(words).values(), reverse=True)\n",
      "\n",
      "plt.loglog(word_counts)\n",
      "plt.ylabel(\"Freq\")\n",
      "plt.xlabel(\"Word Rank\")"
     ],
     "language": "python",
     "metadata": {},
     "outputs": [
      {
       "metadata": {},
       "output_type": "pyout",
       "prompt_number": 14,
       "text": [
        "<matplotlib.text.Text at 0x105dc3ad0>"
       ]
      },
      {
       "metadata": {},
       "output_type": "display_data",
       "png": "[encoded data removed]",
       "text": [
        "<matplotlib.figure.Figure at 0x105be5450>"
       ]
      }
     ],
     "prompt_number": 14
    },
    {
     "cell_type": "heading",
     "level": 2,
     "metadata": {},
     "source": [
      "Example 13. Generating histograms of words, screen names, and hashtags"
     ]
    },
    {
     "cell_type": "code",
     "collapsed": false,
     "input": [
      "for label, data in (('Words', words), \n",
      "                    ('Screen Names', screen_names), \n",
      "                    ('Hashtags', hashtags)):\n",
      "\n",
      "    # Build a frequency map for each set of data\n",
      "    # and plot the values\n",
      "    c = Counter(data)\n",
      "    plt.hist(c.values())\n",
      "    \n",
      "    # Add a title and y-label ...\n",
      "    plt.title(label)\n",
      "    plt.ylabel(\"Number of items in bin\")\n",
      "    plt.xlabel(\"Bins (number of times an item appeared)\")\n",
      "    \n",
      "    # ... and display as a new figure\n",
      "    plt.figure()"
     ],
     "language": "python",
     "metadata": {},
     "outputs": [
      {
       "metadata": {},
       "output_type": "display_data",
       "png": "[encoded data removed]",
       "text": [
        "<matplotlib.figure.Figure at 0x10683c390>"
       ]
      },
      {
       "metadata": {},
       "output_type": "display_data",
       "png": "[encoded data removed]",
       "text": [
        "<matplotlib.figure.Figure at 0x1068b6610>"
       ]
      },
      {
       "metadata": {},
       "output_type": "display_data",
       "png": "[encoded data removed]",
       "text": [
        "<matplotlib.figure.Figure at 0x106d462d0>"
       ]
      },
      {
       "metadata": {},
       "output_type": "display_data",
       "text": [
        "<matplotlib.figure.Figure at 0x106dccd90>"
       ]
      }
     ],
     "prompt_number": 15
    },
    {
     "cell_type": "heading",
     "level": 2,
     "metadata": {},
     "source": [
      "Example 14. Generating a histogram of retweet counts"
     ]
    },
    {
     "cell_type": "code",
     "collapsed": false,
     "input": [
      "# Using underscores while unpacking values in\n",
      "# a tuple is idiomatic for discarding them\n",
      "\n",
      "counts = [count for count, _, _ in retweets]\n",
      "\n",
      "plt.hist(counts)\n",
      "plt.title(\"Retweets\")\n",
      "plt.xlabel('Bins (number of times retweeted)')\n",
      "plt.ylabel('Number of tweets in bin')\n",
      "\n",
      "print counts"
     ],
     "language": "python",
     "metadata": {},
     "outputs": [
      {
       "output_type": "stream",
       "stream": "stdout",
       "text": [
        "[23, 1, 21, 1, 5, 2, 2, 2, 3, 1, 1, 1, 1, 9, 1, 1, 1, 15, 1, 1, 1, 2, 1, 1, 7, 6, 1, 3, 1, 1, 1, 1, 1]\n"
       ]
      },
      {
       "metadata": {},
       "output_type": "display_data",
       "png": "[encoded data removed]",
       "text": [
        "<matplotlib.figure.Figure at 0x105dacc50>"
       ]
      }
     ],
     "prompt_number": 16
    },
    {
     "cell_type": "markdown",
     "metadata": {},
     "source": [
      "Note: This histogram gives you an idea of how many times tweets are retweeted with the x-axis defining partitions for tweets that have been retweeted some number of times and the y-axis telling you how many tweets fell into each bin. For example, a y-axis value of 5 for the \"15-20 bin\" on the x-axis means that there were 5 tweets that were retweeted between 15 and 20 times.\n",
      "\n",
      "Here's another variation that transforms the data using the (automatically imported from numpy) log function in order to improve the resolution of the plot."
     ]
    },
    {
     "cell_type": "code",
     "collapsed": false,
     "input": [
      "from math import log\n",
      "\n",
      "# Using underscores while unpacking values in\n",
      "# a tuple is idiomatic for discarding them\n",
      "\n",
      "counts = [count for count, _, _ in retweets]\n",
      "\n",
      "# Taking the log of the *data values* themselves can \n",
      "# often provide quick and valuable insight into the\n",
      "# underlying distribution as well. Try it back on\n",
      "# Example 13 and see if it helps.\n",
      "\n",
      "plt.hist((counts))\n",
      "plt.title(\"Retweets\")\n",
      "plt.xlabel('Log[Bins (number of times retweeted)]')\n",
      "plt.ylabel('Log[Number of tweets in bin]')\n",
      "\n",
      "print (counts)"
     ],
     "language": "python",
     "metadata": {},
     "outputs": [
      {
       "output_type": "stream",
       "stream": "stdout",
       "text": [
        "[23, 1, 21, 1, 5, 2, 2, 2, 3, 1, 1, 1, 1, 9, 1, 1, 1, 15, 1, 1, 1, 2, 1, 1, 7, 6, 1, 3, 1, 1, 1, 1, 1]\n"
       ]
      },
      {
       "metadata": {},
       "output_type": "display_data",
       "png": "[encoded data removed]",
       "text": [
        "<matplotlib.figure.Figure at 0x106db9e50>"
       ]
      }
     ],
     "prompt_number": 25
    },
    {
     "cell_type": "code",
     "collapsed": false,
     "input": [],
     "language": "python",
     "metadata": {},
     "outputs": []
    }
   ],
   "metadata": {}
  }
 ]
}